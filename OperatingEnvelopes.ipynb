{
 "cells": [
  {
   "cell_type": "markdown",
   "id": "fc70343f-4ed2-49eb-b788-4a10a06d1b35",
   "metadata": {},
   "source": [
    "# Tutorial on DER Management | Operating Envelopes: The Basics"
   ]
  },
  {
   "cell_type": "markdown",
   "id": "fa87e43f-8cf4-4f0e-987d-5dd21358cb46",
   "metadata": {},
   "source": [
    "## 1. Introduction \n",
    "\n",
    "### Objectives \n",
    "The objectives of this tutorial are:\n",
    "1. To familiarise with the process by which power enginners can calculate operating envelopes to facilitate exports/imports from customers whilst ensuring that voltages and asset utilisation are within the limits. \n",
    "\n",
    "2. To continue familiarising with the advanced tool [OpenDSS](https://www.epri.com/pages/sa/opendss) (using Python and the [dss_python](https://github.com/dss-extensions/dss_python) module). And, to guide you, all will be done using a notebook on [Jupyter Notebook](https://jupyter.org/).\n",
    "\n",
    "### Structure of this Document\n",
    "The rest of this document is divided into three parts:\n",
    "\n",
    "- **2. Tutorial.** You will learn how to determine operating envelopes using electrical models to ensure that voltages and asset utilisation are within limits.\n",
    "- **3. Exercises.** Here you will go through some exercises that will help you familiarise with the code and how to modify it for different purposes.\n",
    "- **4. Simulation Workspace.** Here you can place all your code to run it at once. You should use **`code`** that is relevant to each question \n",
    "\n",
    "<font color='red'>**<u>Note</u>:**</font> Make sure to understand well how to model the operating envelopes, because this will be crucial to go through the exercises. If you make a mistake when modelling the network, your results will be incorrect."
   ]
  },
  {
   "cell_type": "markdown",
   "id": "23f59eb3-ce01-47dd-8680-f7e8e6bf038e",
   "metadata": {},
   "source": [
    "## 2. Tutorial   "
   ]
  },
  {
   "cell_type": "markdown",
   "id": "8197c0f8-ac9b-47da-b771-98011ac73051",
   "metadata": {},
   "source": [
    "We will use the Test LV Circuit (shown in the figure below) from the [Tutorial-DERHostingCapacity-2-TimeSeries_LV](https://github.com/Team-Nando/Tutorial-DERHostingCapacity-2-TimeSeries_LV).  \n",
    "\n",
    "Since you have already been working with this Test LV Circuit, only the information related to the **operating envelopes** will be given in detail. "
   ]
  },
  {
   "cell_type": "markdown",
   "id": "2eeca95d-99f1-4b99-a95d-d3d7a9e1c6e9",
   "metadata": {},
   "source": [
    "<img style=\"float: middle;\" src=\"LVcircuit-topology.png\" width=\"50%\">  \n",
    "\n",
    "**<center>Figure 1. Test LV Circuit Topology</center>**   "
   ]
  },
  {
   "cell_type": "markdown",
   "id": "a543b91b-c5df-4069-b0ca-3dc203ab1608",
   "metadata": {},
   "source": [
    "**Operating Envelopes (OEs)**\n",
    "\n",
    "To properly understand operating envelopes, it is important to first define two types of distribution network customers:\n",
    "\n",
    "- **Active Customers**: The ones that engage with aggregators who, in turn, use the customers' DER to provide services to the system operator (AEMO in Australia).\n",
    "- **Passive Customers**: These are conventional customers. They might have DER but do not engage with aggregators.\n",
    "\n",
    "<img style=\"float: middle;\" src=\"Active_Passive_Customers.png\" width=\"70%\">\n",
    "\n",
    "*Passive customers* have **fixed** maximum power exports/imports at their connection point. These fixed limits are defined by the connection agreement with the DNSP and/or by the circuit breaker rating at the site. For instance, a small single-phase house in Australia could have a fixed import limit of 14kW and an export limit of 5kW (common in Australia to mitigate the effects of solar PV).\n",
    "\n",
    "*Active customers*, on the other hand, will have **time-varying** maximum exports/imports at their connection point. These values will be calculated by the DNSP to ensure network integrity (voltages within the statutory limits and asset have not exceeded their rated capacity). For instance, a single-phase house in a neighbourhood with lots of solar PV could be given an export limit at 1pm of 3kW but at 5pm it could be 10kW.\n",
    "\n",
    "<img style=\"float: middle;\" src=\"Operating_Envelops.png\" width=\"40%\"> "
   ]
  },
  {
   "cell_type": "markdown",
   "id": "88b1ac18-54c0-4f14-b1cc-6f7986d17c73",
   "metadata": {},
   "source": [
    "**How can DNSPs calculate the OEs?** One approach is to do this calculation using electrical models of the corresponding network. One can explore different values of OEs until the voltage or asset utilisation limits are hit. This is done for exports and imports separately. In addition, one can have different objective functions (or allocation techniques). For more information, check the links below.\n",
    "- [Deliverable 1.1 \"Operating Envelopes Calculation Architecture\"](https://www.researchgate.net/publication/348176636_Deliverable_11_Operating_Envelopes_Calculation_Architecture)\n",
    "- [Deliverable 1.2 \"High-level Assessment of Objective Functions\"](https://www.researchgate.net/publication/348404040_Deliverable_12_High-level_Assessment_of_Objective_Functions)\n",
    "- [Project EDGE](https://electrical.eng.unimelb.edu.au/power-energy/projects/project-edge#resources)\n",
    "\n",
    "**In this Tutorial we will explain how to calculate the Operating Envelopes of 9 out of 31 single-phase customers (i.e., 9 active customers)** such that the voltages and asset utilisation are within the limits. For simplicity, **we will consider that all active customers will have the same operating envelope**, i.e., the calculation will consider that the value is the same for all of them simultaneously. This OE allocation is usually called **equal allocation** or **equal opportunity**. You will also investigate different numbers of active customers in the questions.\n",
    "\n",
    "Follow the steps below. **And let's begin!**\n",
    "\n",
    "<font color='red'>**<u>Note</u>:**</font> You will need to run the code in each cell. Select the code cell (a <font color='green'>**green box [ ]**</font> surrounding the cell will appear) and then click on the &#9654; **`Run`** button on top of the page to run the corresponding code (or use the shortcut `Control`-`Enter`). Since you will be running code, **you will need to run the cells sequentially**, one after the other without skipping code cells. A number will appear inside the brackets [X] indicating the number of the *run*."
   ]
  },
  {
   "cell_type": "markdown",
   "id": "f293a7c9-8cfd-4238-abc7-cd92ad7c3b50",
   "metadata": {},
   "source": [
    "### 2.1 Load Modules and Libraries"
   ]
  },
  {
   "cell_type": "code",
   "execution_count": 1,
   "id": "4a5ab330-56aa-493e-b118-369d52552983",
   "metadata": {},
   "outputs": [],
   "source": [
    "import os\n",
    "import numpy as np\n",
    "import pandas as pd\n",
    "import random\n",
    "import matplotlib.pyplot as plt\n",
    "import math\n",
    "import dss\n",
    "from random import choice"
   ]
  },
  {
   "cell_type": "markdown",
   "id": "d383c8d4-191b-4143-9778-8aa506038696",
   "metadata": {},
   "source": [
    "<a id='4'></a>\n",
    "### 2.2 Set the working path\n",
    "Run the code in the cell below to get your working path. As an output you get the location of this notebook in your computer.  \n",
    "\n",
    "<font color='red'>**<u>Note 1</u>:**</font> Your path should not have spaces. Here is an example with no spaces: `C:\\Users\\student_name\\Desktop\\ELEN90077_Workshops`.\n",
    "\n",
    "<font color='red'>**<u>Note 2</u>:**</font> If you are a MAC user, there may be some errors due to the different use of slash/backslash when defining a path. By changing `/` instead of `\\`, you will fix the problem. For instance, you can change `\\\\Residential..` with `/Residential..`.\n",
    "\n",
    "<font color='red'>**<u>Note 3</u>:**</font> You should always open the Jupyter Notebook file from the folder that you uploaded to Jupyter Notebook. If you want to continue working later, you can simply save the changes and then open the **.ipynb** file again and continue working from where you left."
   ]
  },
  {
   "cell_type": "code",
   "execution_count": 2,
   "id": "db9e413c-1d70-4737-85d9-566504f50193",
   "metadata": {},
   "outputs": [
    {
     "name": "stdout",
     "output_type": "stream",
     "text": [
      "The direction is located in the following path: my_directory = C:\\Users\\ASIMONOVSKA\\Documents\\GitHub\\Operating-Envelopes\n"
     ]
    }
   ],
   "source": [
    "mydir = os.getcwd()\n",
    "print(f\"The direction is located in the following path: my_directory = {mydir}\")"
   ]
  },
  {
   "cell_type": "markdown",
   "id": "6ed51c7c-aef6-41d9-bbfb-d348f60b55c1",
   "metadata": {},
   "source": [
    "### 2.3 Set up dss_engine"
   ]
  },
  {
   "cell_type": "code",
   "execution_count": 3,
   "id": "b22a2863-57cd-49ff-9d6f-8884bf8dadcf",
   "metadata": {},
   "outputs": [],
   "source": [
    "dss_engine = dss.DSS\n",
    "DSSText = dss_engine.Text\n",
    "DSSCircuit = dss_engine.ActiveCircuit\n",
    "DSSSolution = dss_engine.ActiveCircuit.Solution\n",
    "ControlQueue = dss_engine.ActiveCircuit.CtrlQueue\n",
    "dss_engine.AllowForms = 0"
   ]
  },
  {
   "cell_type": "markdown",
   "id": "f0bd3aaa-163c-4b8b-bfa1-8718aeb26b3b",
   "metadata": {},
   "source": [
    "### 2.4 Network, Load and solar PV Modelling\n",
    "#### 2.4.1 Define components\n",
    "The `LVcircuit-master.txt` file defines the frequency and base voltages, then it redirects to network components definitions: transformers, lines, loads, etc.  \n",
    "<font color='red'>**<u>Note</u>:**</font> Always use the `.dss` and `.txt` files from the current workshop, in this case workshop 5."
   ]
  },
  {
   "cell_type": "code",
   "execution_count": 4,
   "id": "a3312250-7cfb-41a6-8fd3-5c3dcfd2e6f4",
   "metadata": {},
   "outputs": [],
   "source": [
    "DSSText.Command = 'Clear'                               \n",
    "DSSText.Command = 'Compile ' + mydir +  '\\\\TestLVCircuit\\\\LVcircuit-master.txt'    \n",
    "DSSText.Command = 'Set VoltageBases = [22.0, 0.400]'\n",
    "DSSText.Command = 'calcvoltagebases'"
   ]
  },
  {
   "cell_type": "markdown",
   "id": "9109d9c0-dc19-49fc-99ef-cf25db2d1af0",
   "metadata": {},
   "source": [
    "#### 2.4.2 Import Load and PV profiles and store their shapes"
   ]
  },
  {
   "cell_type": "code",
   "execution_count": 5,
   "id": "3edcd9ed-8563-4265-bfed-38f1b21e025d",
   "metadata": {},
   "outputs": [],
   "source": [
    "houseData30minutes = np.load(mydir + '\\\\TestLVCircuit\\\\Residential load data 30-min resolution.npy') \n",
    "PVData30minutes = np.load(mydir + '\\\\TestLVCircuit\\\\Residential PV data 30-min resolution.npy')"
   ]
  },
  {
   "cell_type": "code",
   "execution_count": 6,
   "id": "9ebcee33-9f52-407f-baf8-2906481608fa",
   "metadata": {},
   "outputs": [],
   "source": [
    "shape_profiles  = houseData30minutes.shape\n",
    "noProfiles = shape_profiles[0]\n",
    "PV_shape_profiles  = PVData30minutes.shape\n",
    "\n",
    "x=[i for i in range(48)]\n",
    "l=[]\n",
    "for i in range(24): \n",
    "      l.append(\"%s:00\"%i)\n",
    "      l.append(\" \")"
   ]
  },
  {
   "cell_type": "markdown",
   "id": "efb8e80a-ae7b-40df-87b8-dac62aad9b79",
   "metadata": {},
   "source": [
    "### 2.5 Definition of Functions\n",
    "\n",
    "#### 2.5.1 def <font color=blue> Load_profile_allocation</font> (New,icust,cust,iday)"
   ]
  },
  {
   "cell_type": "code",
   "execution_count": 7,
   "id": "9c58a516-0ec8-47e2-a567-34bef41205e2",
   "metadata": {},
   "outputs": [],
   "source": [
    "def Load_profile_allocation(New,icust,cust,iday):\n",
    "    if New==1:\n",
    "       load_profile = np.zeros(48)\n",
    "       DSSCircuit.LoadShapes.New('customer_profile_%s' %(icust))\n",
    "       DSSCircuit.LoadShapes.Npts = 48\n",
    "       DSSCircuit.LoadShapes.MinInterval = 30\n",
    "       DSSCircuit.LoadShapes.UseActual = 1\n",
    "       reactive_profile = (load_profile * math.tan(math.acos(0.95))).tolist()\n",
    "       reactive_profile=np.array(reactive_profile)\n",
    "    \n",
    "    if New==0:\n",
    "        random_profile = np.random.randint(0,noProfiles)        \n",
    "        load_profile = houseData30minutes[random_profile, iday, :]\n",
    "        reactive_profile = []\n",
    "        for j in range(48):\n",
    "            reactive_profile.append((load_profile[j]) * math.tan(math.acos(0.95)))\n",
    "        reactive_profile = np.array(reactive_profile)          \n",
    "        DSSCircuit.LoadShapes.Qmult = reactive_profile.tolist()\n",
    "        \n",
    "        \n",
    "    DSSCircuit.LoadShapes.Name = 'customer_profile_%s' %(icust)\n",
    "    DSSCircuit.LoadShapes.Pmult = load_profile.tolist()\n",
    "    DSSCircuit.LoadShapes.Qmult = reactive_profile.tolist()\n",
    "    DSSCircuit.SetActiveElement('load.%s'%(cust))\n",
    "    DSSCircuit.ActiveElement.Properties('daily').Val = str('customer_profile_%s' %(icust))\n",
    "    if New==0:\n",
    "        return (load_profile,reactive_profile,random_profile)"
   ]
  },
  {
   "cell_type": "markdown",
   "id": "e8c7144c-7947-4915-acf4-574bd588f8d3",
   "metadata": {},
   "source": [
    "#### 2.5.2 def <font color=blue> PV_allocation</font> (New,icust,cust,iday)"
   ]
  },
  {
   "cell_type": "code",
   "execution_count": 8,
   "id": "3ab501c3-1fb6-4927-a3ab-2e047cfb64b2",
   "metadata": {},
   "outputs": [],
   "source": [
    "def PV_allocation(New,icust,cust,iday):\n",
    "    if New==1:\n",
    "        PV_profile = np.zeros(48)\n",
    "        DSSCircuit.LoadShapes.New('pv_profile_%s' %(icust))\n",
    "        DSSCircuit.LoadShapes.Npts = 48\n",
    "        DSSCircuit.LoadShapes.MinInterval = 30\n",
    "        DSSCircuit.LoadShapes.UseActual = 1\n",
    "        DSSCircuit.LoadShapes.Pmult = PV_profile.tolist()\n",
    "        DSSCircuit.SetActiveElement('load.%s' %(cust))\n",
    "        bus_name = DSSCircuit.ActiveElement.Properties('bus1').Val\n",
    "        DSSText.Command = 'new PVSystem.%s'%(icust)\\\n",
    "                                + ' phases = 1'  \\\n",
    "                                + ' irradiance = 1' \\\n",
    "                                + ' %cutin = 0.05' \\\n",
    "                                + ' %cutout = 0.05' \\\n",
    "                                + ' vmaxpu = 1.5' \\\n",
    "                                + ' vminpu = 0.5' \\\n",
    "                                + ' kva = 10' \\\n",
    "                                + ' pmpp = 10'\\\n",
    "                                + ' bus1 = ' + str(bus_name)\\\n",
    "                                + ' pf = 1' \\\n",
    "                                + ' kv = 0.23' \\\n",
    "                                + ' daily = ' +str('pv_profile_%s'%(icust))\n",
    "    else:\n",
    "        PV_profile = PVData30minutes[iday,:]\n",
    "        pv_profiles_all.append(PV_profile)        \n",
    "        DSSCircuit.LoadShapes.Name = 'pv_profile_%s' %(icust)\n",
    "        DSSCircuit.LoadShapes.Pmult = PV_profile.tolist()        \n",
    "        DSSCircuit.SetActiveElement('load.%s' %(cust))\n",
    "        bus_name = DSSCircuit.ActiveElement.Properties('bus1').Val\n",
    "        DSSCircuit.SetActiveElement('PVSystem.%s'%(icust))\n",
    "        DSSCircuit.ActiveElement.Properties('bus1').Val = str(bus_name)\n",
    "        DSSCircuit.ActiveElement.Properties('daily').Val = str('pv_profile_%s'%(icust))\n",
    "        return PV_profile"
   ]
  },
  {
   "cell_type": "markdown",
   "id": "19e37788-3edf-4993-af36-43515701fbdf",
   "metadata": {},
   "source": [
    "#### 2.5.3 def <font color=blue>Initiate_variable</font> (customers)"
   ]
  },
  {
   "cell_type": "code",
   "execution_count": 9,
   "id": "ba432258-5903-4350-a6f1-24faeadb00cd",
   "metadata": {},
   "outputs": [],
   "source": [
    "def Initiate_variable(customers):\n",
    "    kW_monitors = np.zeros((customers,48))\n",
    "    kvar_monitors = np.zeros((customers,48))\n",
    "    voltages_monitors = np.zeros((customers,48))\n",
    "    df_kw = pd.DataFrame()\n",
    "    df_kvar = pd.DataFrame()\n",
    "    df_volt = pd.DataFrame()\n",
    "    load_profiles_all = []\n",
    "    pv_profiles_all = []\n",
    "    random_profiles_all = []    \n",
    "    rand_cust = []  \n",
    "    reactive_profiles_all = []\n",
    "    return  (kW_monitors, kvar_monitors, voltages_monitors, df_kw, df_kvar, \n",
    "             df_volt, load_profiles_all, pv_profiles_all, random_profiles_all, rand_cust,reactive_profiles_all)"
   ]
  },
  {
   "cell_type": "markdown",
   "id": "c408cdb8-a27b-45c3-b062-a11e926706f0",
   "metadata": {},
   "source": [
    "#### 2.5.4 def <font color=blue>Monitors_data</font> ()"
   ]
  },
  {
   "cell_type": "code",
   "execution_count": 10,
   "id": "16e3ebd7-5c37-41bd-819f-0a562fe392f6",
   "metadata": {},
   "outputs": [],
   "source": [
    "def Monitors_data():\n",
    "    for icust, cust in enumerate(Loadname):\n",
    "            DSSCircuit.SetActiveElement('load.%s' %(cust))\n",
    "            kW_monitors[icust, itime] = DSSCircuit.ActiveElement.Powers[0]\n",
    "            kvar_monitors[icust,itime]= DSSCircuit.ActiveElement.Powers[1]\n",
    "            bus_name = DSSCircuit.ActiveElement.Properties('bus1').Val\n",
    "            DSSCircuit.SetActiveBus(bus_name)\n",
    "            voltages_monitors[icust, itime] = DSSCircuit.ActiveBus.VMagAngle[0]"
   ]
  },
  {
   "cell_type": "markdown",
   "id": "b7fa35f6-78eb-4ddc-9477-b1aeb0c3b464",
   "metadata": {},
   "source": [
    "### 2.6 Simulation \n",
    "#### 2.6.1  Set simulation period\n",
    "- Set `start_day` and `total_day` to choose the simulation period you want.  \n",
    "- You will run the simulation only for `start_day=220`, so **you should not change this code block** at all."
   ]
  },
  {
   "cell_type": "code",
   "execution_count": 11,
   "id": "424493a0-df23-4550-a368-527458695c2d",
   "metadata": {},
   "outputs": [],
   "source": [
    "start_day = 220\n",
    "total_days = 1"
   ]
  },
  {
   "cell_type": "markdown",
   "id": "c292f873-de6a-41ac-8c2d-204af197dc35",
   "metadata": {},
   "source": [
    "#### 2.6.2 Set the Type of Customers\n",
    "In this totorial we will use the following configuration: \n",
    " 1. **Active Customers** (9/31, 29% of the customers)\n",
    " 2. **Passive Customers without DER** (20/31, 64% of the customers)\n",
    " 3. **Passive Customers with DER** (2/31, 7% of the customers)\n",
    " \n",
    "- The sum of the active and passive custumers should always give the total number of customers, in this case 31 single-phase customers.\n",
    "- You can notice that in OpenDSS, each load starts with **load_mg1_`Number-Cust`**, where `Number-Cust` is the number of the load/customer.   \n",
    "<font color='red'>**<u>Note</u>:**</font> You will have to change the configuration as given in the questions! "
   ]
  },
  {
   "cell_type": "code",
   "execution_count": 12,
   "id": "6957aed5-c2d4-40d4-a8a5-68c4996f963d",
   "metadata": {},
   "outputs": [],
   "source": [
    "active_customers=[   'load_mg1_6', 'load_mg1_8', 'load_mg1_9', 'load_mg1_13',\n",
    "                    'load_mg1_22','load_mg1_24','load_mg1_28', 'load_mg1_29',  'load_mg1_30' ]\n",
    "\n",
    "passive_customers_noDER=[ 'load_mg1_1', 'load_mg1_3', 'load_mg1_4', 'load_mg1_5', 'load_mg1_7', 'load_mg1_10', 'load_mg1_11', 'load_mg1_12', 'load_mg1_14',\n",
    "                         'load_mg1_12','load_mg1_14','load_mg1_15', 'load_mg1_16', 'load_mg1_17', 'load_mg1_18', 'load_mg1_19', 'load_mg1_20',\n",
    "                         'load_mg1_20','load_mg1_23', 'load_mg1_25',   'load_mg1_26', 'load_mg1_27' ,'load_mg1_31']\n",
    "\n",
    "passive_customers_DER=['load_mg1_2', 'load_mg1_21']"
   ]
  },
  {
   "cell_type": "markdown",
   "id": "1f87d3e1-9f22-4ab6-bb5a-ec36bcd34bcc",
   "metadata": {},
   "source": [
    "#### 2.6.3 Initialise Load profiles and PV systems\n",
    "After defining the functions, we are ready to allocate the Load and PV profiles."
   ]
  },
  {
   "cell_type": "code",
   "execution_count": 13,
   "id": "a808cb4e-c7e7-43a2-9350-02199797fad2",
   "metadata": {},
   "outputs": [],
   "source": [
    "Loadname = DSSCircuit.Loads.AllNames\n",
    "customers=len(Loadname)\n",
    "icust_DER_passive=list(range(0,(len(passive_customers_DER))))\n",
    "temp=0\n",
    "for icust, cust in enumerate(Loadname):\n",
    "    Load_profile_allocation(1,icust,cust,0)  \n",
    "    PV_allocation(1,icust,cust,0)\n",
    "    if cust in passive_customers_DER: \n",
    "        icust_DER_passive[temp]=icust\n",
    "        temp=temp+1           "
   ]
  },
  {
   "cell_type": "markdown",
   "id": "d1240d09-6244-4cf1-bd2d-46a856f44362",
   "metadata": {},
   "source": [
    "### 2.7 Defining Operating Envelopes and Power Flow Analysis\n",
    "\n",
    "Since the operating envelopes are time-varying **export/import** limits at the network connection point of the `active customers`, you will run the simulation to find the maximum exports and maximum imports **separately**.    \n",
    "You will have to select between **1** and **2**, depending which **operating envelopes you are going to define**. \n",
    "- To define the **maximum exports**, use **OE=1**, which in the code will use the values for exports **`(OE_values_exports)`**. These values have **negative (-)** sign. \n",
    "- To define the **maximum imports**, use **OE=2**, which in the code will use the values for imports **`(OE_values_imports)`**. These values have **positive (+)** sign.\n",
    "\n",
    "<font color='red'>**<u>Note</u>:**</font> Both **`OE_values_exports`** and **`OE_values_imports`** are arrays of 48 values (in kW), corresponding to 48 time-periods in the day (because of the 30-min time resolution that is used for the whole day).\n",
    "- The **OEs are the same** for `all active customers` for the given time period. For instance, if we take time-period=24 (equivalent to 12:00h), if the OE value is -6, then all active customers have 6kW as maximum export at that time period. They can have another value for 15:00h, for instance -7, which means all active cutomers at time peiod 30 (equivalent to 15:00h) will have 7kW as maximum export.\n"
   ]
  },
  {
   "cell_type": "markdown",
   "id": "e0af6417-017d-48b1-867a-37668a1ed0c3",
   "metadata": {},
   "source": [
    "#### 2.7.1 How do you change the values for the maximum exports?\n",
    "- First, you need to select **OE=1**, since you are going to use the **exports**. \n",
    "- Then, after running the code block, you need to check if **voltages** and **asset utilisation** are within the limits. \n",
    "    1. You will notice that the voltages are **above** the statutory limits by:\n",
    "         - Looking at the voltage profiles plot, where voltages exceed the top red dashed line, \n",
    "         - By running `print(df_volt[time_step])` in a separate code block to get all customers' voltages for the specific time period (time period values are in range from 0 to 47), or\n",
    "         - By running `print(df_volt)` to get all customers' voltages for all 48 time periods at once. \n",
    "   2. The thermal limits will not be affected in this case. If they were affected a message such as \"This is time: `time-period`, There is a thermal violation of the line `line-name`\" will be printed.\n",
    "   \n",
    "For the given configuration:   \n",
    "- Since for time period 0 (equivalent to 00:00h) the voltage is above the limits for many customers, you should change the value of the OE.  \n",
    "- Then, you run the simulation again and if the voltage is still above the limits, you change the value of the OE again until all customers are compliant. \n",
    "- When the voltages with the new value for the OE are within the limits, the value for the OE for that time period is said to be defined. \n",
    "- Once the value for the OE is defined for the specific time period, you move on to the next time period untill you define all time periods of the day (48 in total). \n",
    "- In the end the **`OE_values_exports`** array will contain new values for the OEs that you have defined that ensure voltage and thermal assets compliance. "
   ]
  },
  {
   "cell_type": "markdown",
   "id": "0c2635cf-01be-492e-8fbf-8642d41c2dd7",
   "metadata": {},
   "source": [
    "#### 2.7.2 How do you change the values for the maximum imports?\n",
    "- Same as changing the values of the exports with some modifications:\n",
    "    - First, you need to select **OE=2**, since you are going to use the **imports**. \n",
    "    - Then, if you run the code block you need to check for any **voltage** of **thermal limits** violations.\n",
    "      1. You will notice that the voltages are **below** the statutory limits by:\n",
    "         - Looking at the voltage profiles plot, where voltages are below the bottom red dashed line, \n",
    "         - By running `print(df_volt[time_step])` in a separate code block to get all customers' voltages for the specific time period (time period values are in range from 0 to 47), or\n",
    "         - By running `print(df_volt)` to get all customers' voltages for all 48 time periods at once. \n",
    "   2. The thermal limits **will be affected** in this case. You will get the following message \"This is time: `time-period`, There is a thermal violation of the line `line-name`\" for each time period for at least one line. \n",
    "   \n",
    "For the given configuration:   \n",
    "- Since for time period 0 (equivalent to 00:00h) the voltage is within the limits, however the thermal limits are not, therefore you need to change the value of the OE.\n",
    "- Then, you run the simulation again and if the thermal limits are still violated, you change the value of the OE again until there are no thermal issues. \n",
    "- When you no longer get a printed message for the 0 time period, the value for the OE for that time period is said to be defined. \n",
    "- Once the value for the OE is defined for the specific time period, you move on to the next time period untill you define all time periods of the day (48 in total). \n",
    "- In the end the **`OE_values_imports`** array will contain new values for the OEs that you have defined that ensure voltage and thermal assets compliance.    "
   ]
  },
  {
   "cell_type": "code",
   "execution_count": 14,
   "id": "b41698ff-7ec5-4c36-9c3a-fbfcbc3b45a6",
   "metadata": {},
   "outputs": [
    {
     "name": "stdout",
     "output_type": "stream",
     "text": [
      "This is day:  220\n",
      "Message: The Solution Converged Successfully\n",
      "\n"
     ]
    },
    {
     "data": {
      "image/png": "[encoded data removed]",
      "text/plain": [
       "<Figure size 648x216 with 1 Axes>"
      ]
     },
     "metadata": {
      "needs_background": "light"
     },
     "output_type": "display_data"
    }
   ],
   "source": [
    "OE=1  # 1 or 2 \n",
    "\n",
    "for iday in range(start_day,start_day+total_days):\n",
    "    print(\"This is day: \",iday)\n",
    "    np.random.seed(10)\n",
    "    (kW_monitors, kvar_monitors, voltages_monitors, df_kw, df_kvar, df_volt, \n",
    "     load_profiles_all, pv_profiles_all, random_profiles_all, rand_cust,reactive_profiles_all) = Initiate_variable(customers)\n",
    "    \n",
    "    OE_values_exports=[-10, -10, -10, -10, -10, -10, -10, -10, -10, -10, -10, -10,  #00:00 to 6AM\n",
    "                       -10, -10, -10, -10, -10, -10, -10, -10, -10, -10, -10, -10,  #6:30AM to 12PM\n",
    "                       -10, -10, -10, -10, -10, -10, -10, -10, -10, -10, -10, -10,  #12PM to 6PM\n",
    "                       -10, -10, -10, -10, -10, -10, -10, -10, -10, -10, -10, -10]  #6PM to 23:30\n",
    "    \n",
    "    OE_values_imports=[14, 14, 14, 14, 14, 14, 14, 14, 14, 14, 14, 14,  #00:00 to 6AM\n",
    "                      14, 14, 14, 14, 14, 14, 14, 14, 14, 14, 14, 14,  #6:30AM to 12PM\n",
    "                      14, 14, 14, 14, 14, 14, 14, 14, 14, 14, 14, 14,  #12PM to 6PM\n",
    "                      14, 14, 14, 14, 14, 14, 14, 14, 14, 14, 14, 14]  #6PM to 23:30\n",
    "    \n",
    "    new_load_profile=np.zeros(48)\n",
    "    for i in range(48):\n",
    "        if OE==1:\n",
    "            new_load_profile[i]=OE_values_exports[i]\n",
    "        elif OE==2: \n",
    "            new_load_profile[i]=OE_values_imports[i]\n",
    "          \n",
    "    for icust, cust in enumerate(Loadname):\n",
    "        if cust in active_customers:\n",
    "            DSSCircuit.LoadShapes.Name = 'customer_profile_%s' %(icust)\n",
    "            DSSCircuit.LoadShapes.Pmult = new_load_profile.tolist()\n",
    "            DSSCircuit.SetActiveElement('load.%s'%(cust))\n",
    "            DSSCircuit.ActiveElement.Properties('daily').Val = str('customer_profile_%s' %(icust))\n",
    "        else:\n",
    "            load_profile,reactive_profile,random_profile=Load_profile_allocation(0,icust,cust,iday)\n",
    "            load_profiles_all.append(load_profile)\n",
    "            reactive_profiles_all.append(reactive_profile)\n",
    "            random_profiles_all.append(random_profile)\n",
    "            np.random.seed(90)\n",
    "        \n",
    "    for numb in range(len(passive_customers_DER)):\n",
    "         temp=icust_DER_passive[numb]   \n",
    "         PV_allocation(0,numb,passive_customers_DER[numb],iday)\n",
    "        \n",
    "    DSSText.Command = 'Reset'       \n",
    "    DSSText.Command = 'Set Mode=daily  number=1 stepsize=30m' \n",
    "    save_input_oe_voltage_lv_hof=np.zeros((3,48))    \n",
    "    for itime in range(48):\n",
    "        DSSSolution.Solve()\n",
    "        line_names = DSSCircuit.Lines.AllNames\n",
    "        lv_oe_line_list = []\n",
    "        for iLine in range(len(line_names)):\n",
    "            lv_oe_line_list.append(line_names[iLine])     \n",
    "        Monitors_data()\n",
    "        \n",
    "        # verify thermal limits of lines\n",
    "        lv_hof_util_f0 = 0\n",
    "        keep_thermal_lines_perc_3f=[]\n",
    "        keep_thermal_lines_perc_1f=[]\n",
    "        for iLine in range(len(lv_oe_line_list)):\n",
    "            DSSCircuit.SetActiveElement('line.' + str(lv_oe_line_list[iLine]))\n",
    "            number_phases_lines = int(DSSCircuit.ActiveElement.Properties('phases').Val)\n",
    "            if number_phases_lines == 3:\n",
    "                I11 = DSSCircuit.ActiveCktElement.CurrentsMagAng[0]\n",
    "                I12 = DSSCircuit.ActiveCktElement.CurrentsMagAng[2]\n",
    "                I13 = DSSCircuit.ActiveCktElement.CurrentsMagAng[4]\n",
    "                I_rated = DSSCircuit.Lines.NormAmps\n",
    "                I_max_lv_oe_temp = max(I11, I12, I13)\n",
    "                keep_thermal_lines_perc_3f.append((I_max_lv_oe_temp/I_rated)*100)\n",
    "                if I_max_lv_oe_temp > I_rated:\n",
    "                    flag_thermal_line = 0\n",
    "                    print(\"This is time: %s,There is a thermal violation of the line %s \"%(itime,lv_oe_line_list[iLine]))\n",
    "                    break\n",
    "                else:\n",
    "                    flag_thermal_line = 1\n",
    "            else:\n",
    "                I11 = DSSCircuit.ActiveCktElement.CurrentsMagAng[0]\n",
    "                I_rated = DSSCircuit.Lines.NormAmps\n",
    "                keep_thermal_lines_perc_1f.append((I11/I_rated)*100)\n",
    "                if I11 > I_rated:\n",
    "                    flag_thermal_line = 0\n",
    "                    print(\"This is time: %s,There is a thermal violation of the line %s \"%(itime,lv_oe_line_list[iLine]))\n",
    "                    break\n",
    "                else:\n",
    "                    flag_thermal_line = 1\n",
    "                    \n",
    "         # verify thermal limits of transformer\n",
    "        DSSCircuit.SetActiveElement('transformer.transformer_MG1_TR1')\n",
    "        lv_oe_tx_power_capacity = 500\n",
    "        lv_oe_tx_amp_capacity_phase = (500/3)/0.433\n",
    "        number_phases = int(DSSCircuit.ActiveElement.Properties('phases').Val)\n",
    "        if number_phases == 3:\n",
    "            I1_LVT = DSSCircuit.ActiveCktElement.CurrentsMagAng[8]\n",
    "            I2_LVT = DSSCircuit.ActiveCktElement.CurrentsMagAng[10]\n",
    "            I3_LVT = DSSCircuit.ActiveCktElement.CurrentsMagAng[12]\n",
    "            if (I1_LVT + I2_LVT + I3_LVT) > (3 * lv_oe_tx_amp_capacity_phase):\n",
    "                flag_thermal_tx = 0\n",
    "                print(\"Themal issues at the transformer\")\n",
    "            else:\n",
    "                flag_thermal_tx = 1\n",
    "                lv_tx_util = 100 * (I1_LVT + I2_LVT + I3_LVT) / (3 * lv_oe_tx_amp_capacity_phase)\n",
    "    df_kw=pd.DataFrame(kW_monitors)\n",
    "    df_kvar=pd.DataFrame(kvar_monitors)\n",
    "    df_volt=pd.DataFrame(voltages_monitors)    \n",
    "    \n",
    "    if DSSSolution.Converged:\n",
    "         print('Message: The Solution Converged Successfully\\n')\n",
    "    else:\n",
    "         print(\"Message: The Solution Did Not Converge\\n\") \n",
    "           \n",
    "    fig=plt.figure(figsize=(9,3)) \n",
    "    for idx, row in df_volt[0:31].iterrows():\n",
    "             plt.plot(np.array(row), linewidth = 2)         \n",
    "             plt.xlabel(\"Time (hh:mm)\", fontsize = 15)\n",
    "             plt.xticks(fontsize = 10)\n",
    "             plt.xticks(x,l, fontsize=10, rotation=60)\n",
    "             plt.ylabel('Voltage (p.u.)', fontsize = 15)\n",
    "             plt.yticks(fontsize = 10)\n",
    "             plt.title(\"Voltage Profile Day %s\"%(iday+1), fontsize = 15)\n",
    "             plt.axhline(253, linewidth = 1,linestyle='dashed', color = 'r')\n",
    "             plt.axhline(216, linewidth = 1,linestyle='dashed', color = 'r')\n",
    "            \n",
    "    plt.show()\n",
    "    "
   ]
  },
  {
   "cell_type": "markdown",
   "id": "13c60730-3815-41fd-a159-88f075cb93f9",
   "metadata": {},
   "source": [
    "#### 2.7.3 Plot the Operating Envelopes\n",
    "Once you define the values for the OEs for exports and imports for all time periods, you can plot the final OEs. \n",
    "\n",
    "<font color='red'>Note </font> that there will not be a straight line. Here it is because all values are the same for all time periods, which is not the case for the active customers. "
   ]
  },
  {
   "cell_type": "code",
   "execution_count": 15,
   "id": "6a5ad67b-7401-4c9d-b2b2-9a5382cff6ba",
   "metadata": {},
   "outputs": [
    {
     "data": {
      "text/plain": [
       "<matplotlib.legend.Legend at 0x242cb57e5e0>"
      ]
     },
     "execution_count": 15,
     "metadata": {},
     "output_type": "execute_result"
    },
    {
     "data": {
      "image/png": "[encoded data removed]",
      "text/plain": [
       "<Figure size 648x216 with 1 Axes>"
      ]
     },
     "metadata": {
      "needs_background": "light"
     },
     "output_type": "display_data"
    }
   ],
   "source": [
    "fig=plt.figure(figsize=(9,3)) \n",
    "plt.plot(OE_values_exports, linewidth = 2, label='OE exports')  \n",
    "plt.plot(OE_values_imports, linewidth = 2, label='OE imports')  \n",
    "plt.xlabel(\"Time (hh:mm)\", fontsize = 15)\n",
    "plt.xticks(fontsize = 10)\n",
    "plt.xticks(x,l, fontsize=10, rotation=60)\n",
    "plt.ylabel('Power (kW)', fontsize = 15)\n",
    "plt.yticks(fontsize = 10)\n",
    "plt.title(\"Operating Envelopes for day %s\"%(iday+1), fontsize = 15)\n",
    "plt.legend()"
   ]
  },
  {
   "cell_type": "markdown",
   "id": "c54fa1d5-36ad-462f-911d-7cce9f381fed",
   "metadata": {},
   "source": [
    "## 3. Exercises\n",
    "\n",
    "First, read all the exercises so you understand their purpose.\n",
    "\n",
    "At the very end of this notebook in **4. Simulation Workspace**, you will be able to place all your code to run it at once. Remember, you should use **`code`** that is relevant to each exercise."
   ]
  },
  {
   "cell_type": "markdown",
   "id": "ffd96dd5-ccdc-44b1-a110-f10217496b27",
   "metadata": {},
   "source": [
    "### **Exercise 1: Define Operating Envelopes with 29% active customers**"
   ]
  },
  {
   "cell_type": "markdown",
   "id": "5787b6d4-eb6e-4e77-ac44-6469215a05c1",
   "metadata": {},
   "source": [
    "In this exercise you will use the `Test LV Circuit` as in the Tutorial with the **exact same configuration** for the active and passive customers.\n",
    "\n",
    "Use the exact day as given in the tutorial: `select_day=220` and do not change it.\n",
    "\n",
    "**E1:** Considering exports, what is the operating envelope for the selected day? Assume that the maximum export value per customer is 10kW (due to the rated capacity of the DER behind the meter). Explore values in steps of 1kW. \n",
    "\n",
    "**E2:** Considering imports, what is the operating envolope for the selected day? Assume that the maximum import value per customer is 14kW (common value for single-phase houses). Explore values in steps of 1kW.\n"
   ]
  },
  {
   "cell_type": "markdown",
   "id": "6f1d2ac1",
   "metadata": {},
   "source": [
    "## 4. Simulation Workspace"
   ]
  },
  {
   "cell_type": "code",
   "execution_count": null,
   "id": "1452ed02",
   "metadata": {},
   "outputs": [],
   "source": []
  }
 ],
 "metadata": {
  "kernelspec": {
   "display_name": "Python 3",
   "language": "python",
   "name": "python3"
  },
  "language_info": {
   "codemirror_mode": {
    "name": "ipython",
    "version": 3
   },
   "file_extension": ".py",
   "mimetype": "text/x-python",
   "name": "python",
   "nbconvert_exporter": "python",
   "pygments_lexer": "ipython3",
   "version": "3.8.8"
  }
 },
 "nbformat": 4,
 "nbformat_minor": 5
}
